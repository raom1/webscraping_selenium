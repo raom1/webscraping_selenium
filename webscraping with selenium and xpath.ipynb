{
 "cells": [
  {
   "cell_type": "markdown",
   "metadata": {},
   "source": [
    "### Webscraping with selenium and xpath\n",
    "\n",
    "Prepared by Tingting for Nashville Software School on 02/25/2021\n",
    "\n",
    "Agenda:<br>\n",
    "Section 1. The challenge<br>\n",
    "Section 2. The solution<br>\n",
    "Section 3. Code breakdown<br>\n",
    "Section 4. References<br>"
   ]
  },
  {
   "cell_type": "markdown",
   "metadata": {},
   "source": [
    "### Section 1. The challenge: \n",
    "\n",
    "Due to Covid 19, hotels temporarily closed across the globe. I wanted to know which hotels are closed and which hotels remain open. This information helps to track the early signs of recovery.\n"
   ]
  },
  {
   "cell_type": "markdown",
   "metadata": {},
   "source": [
    "### Section 2. The solution: \n"
   ]
  },
  {
   "cell_type": "code",
   "execution_count": null,
   "metadata": {},
   "outputs": [],
   "source": [
    "import pandas as pd\n",
    "from selenium import webdriver\n",
    "from lxml import etree\n",
    "import time\n",
    "from selenium.webdriver.common.action_chains import ActionChains"
   ]
  },
  {
   "cell_type": "code",
   "execution_count": null,
   "metadata": {},
   "outputs": [],
   "source": [
    "sample_data = pd.read_csv('data/sample_data.csv')\n",
    "sample_data.head(3)"
   ]
  },
  {
   "cell_type": "code",
   "execution_count": null,
   "metadata": {},
   "outputs": [],
   "source": [
    "driver = webdriver.Chrome(executable_path=r'C:/Users/duant/Dropbox/nss_ds4/selenium/chromedriver')"
   ]
  },
  {
   "cell_type": "code",
   "execution_count": null,
   "metadata": {},
   "outputs": [],
   "source": [
    "input_hotels=[]\n",
    "hotel_names = []\n",
    "nightly_prices = []\n",
    "hotel_latlngs=[]\n",
    "hotel_destinations=[]"
   ]
  },
  {
   "cell_type": "code",
   "execution_count": null,
   "metadata": {},
   "outputs": [],
   "source": [
    "for i in sample_data['Input'][:2]:\n",
    "    try:\n",
    "        url = 'https://www.booking.com/'\n",
    "        driver.get(url)\n",
    "        time.sleep(4)\n",
    "\n",
    "        input_box=driver.find_element_by_xpath('//input[@class=\"c-autocomplete__input sb-searchbox__input sb-destination__input\"]')\n",
    "        input_box.clear()\n",
    "        input_box.send_keys(i)\n",
    "        time.sleep(2)\n",
    "\n",
    "\n",
    "        date_box=driver.find_element_by_xpath('//div[@class=\"xp__input-group xp__date-time\"]').click()\n",
    "        check_in_date=driver.find_element_by_xpath('//td[@data-date=\"2021-03-29\"]').click()\n",
    "        time.sleep(1)\n",
    "        check_out_date=driver.find_element_by_xpath('//td[@data-date=\"2021-03-30\"]').click()        \n",
    "        time.sleep(5)\n",
    "\n",
    "        search_button=driver.find_element_by_xpath('//div[@class=\"sb-searchbox-submit-col -submit-button \"]').click()\n",
    "\n",
    "        html = etree.HTML(driver.page_source) \n",
    "        time.sleep(3)\n",
    "\n",
    "        \n",
    "        hotel_name = html.xpath('//a[@class=\"js-sr-hotel-link hotel_name_link url\"]/span[1]/text()')\n",
    "        nightly_price_closure = html.xpath('//p[@class=\"simple_av_calendar_no_av sold_out_msg\"]/text()')\n",
    "        hotel_latlng = html.xpath('//a[@class=\"bui-link\"]/@data-coords')\n",
    "        hotel_destination = html.xpath('//a[@class=\"bui-link\"]/text()[1]')       \n",
    "        #hotel_link = html.xpath('//a[@class=\"hotel_name_link url\"]/@href')[0]\n",
    "        input_hotels.append(i)\n",
    "        \n",
    "        if len(hotel_name)<=1:\n",
    "            hotel_names.append('blank')\n",
    "        else:\n",
    "            hotel_names.append(hotel_name[0])\n",
    "            \n",
    "        try:      \n",
    "            if len(nightly_price_closure) <= 1:\n",
    "                nightly_price = html.xpath('//div[@class=\"prco-inline-block-maker-helper\"]/span[1]/text()')[0]\n",
    "                if len(nightly_price)<=1:\n",
    "                    nightly_prices.append('blank')\n",
    "                else:\n",
    "                    nightly_prices.append(nightly_price)\n",
    "            else:\n",
    "                nightly_prices.append(nightly_price_closure[0])\n",
    "        except:\n",
    "            nightly_prices.append('blank')\n",
    "    \n",
    "        \n",
    " \n",
    "        if len(hotel_latlng) <= 1:\n",
    "            hotel_latlngs.append('blank')\n",
    "        else:\n",
    "            hotel_latlngs.append(hotel_latlng[0])\n",
    "            \n",
    "    \n",
    "        if len(hotel_destination) <= 1:\n",
    "            hotel_destinations.append('blank')\n",
    "        else:\n",
    "            hotel_destinations.append(hotel_destination[0])\n",
    "\n",
    "        time.sleep(3)\n",
    "    \n",
    "        if len(hotel_names) % 1 == 0:\n",
    "            pd.DataFrame(\n",
    "                {'input_hotel': input_hotels,\n",
    "                'hotel_name': hotel_names,\n",
    "                 'nightly_price': nightly_prices,\n",
    "                 'hotel_latlng' :hotel_latlngs,\n",
    "                 'hotel_destination': hotel_destinations\n",
    "                }).to_csv(\"{}_bak.csv\".format('closure_checker'), index = False)\n",
    "\n",
    "    except:\n",
    "        None"
   ]
  },
  {
   "cell_type": "code",
   "execution_count": null,
   "metadata": {},
   "outputs": [],
   "source": [
    "pd.DataFrame({'input_hotel': input_hotels,\n",
    "              'hotel_name': hotel_names,\n",
    "              'nightly_price': nightly_prices,\n",
    "              'hotel_latlng' :hotel_latlngs,\n",
    "              'hotel_destination': hotel_destinations\n",
    "             }).to_csv('closure_checker' + '.csv', encoding='utf8', index = False)\n",
    "hotel_closure = pd.read_csv('closure_checker.csv')"
   ]
  },
  {
   "cell_type": "code",
   "execution_count": null,
   "metadata": {},
   "outputs": [],
   "source": [
    "hotel_closure.tail(5)"
   ]
  },
  {
   "cell_type": "code",
   "execution_count": null,
   "metadata": {},
   "outputs": [],
   "source": []
  },
  {
   "cell_type": "markdown",
   "metadata": {},
   "source": [
    "### Section 3: Code breakdown"
   ]
  },
  {
   "cell_type": "code",
   "execution_count": null,
   "metadata": {},
   "outputs": [],
   "source": [
    "hotel= 'Park Inn by Radisson Abu Dhabi Yas Island'"
   ]
  },
  {
   "cell_type": "code",
   "execution_count": null,
   "metadata": {},
   "outputs": [],
   "source": [
    "driver = webdriver.Chrome(executable_path=r'C:/Users/duant/Documents/nss_ds4/webscraping-w-selenium-and-lxml/chromedriver')"
   ]
  },
  {
   "cell_type": "code",
   "execution_count": null,
   "metadata": {},
   "outputs": [],
   "source": [
    "url = 'https://www.booking.com/'"
   ]
  },
  {
   "cell_type": "code",
   "execution_count": null,
   "metadata": {},
   "outputs": [],
   "source": [
    "driver.get(url)"
   ]
  },
  {
   "cell_type": "code",
   "execution_count": null,
   "metadata": {},
   "outputs": [],
   "source": [
    "input_box=driver.find_element_by_xpath('//input[@class=\"c-autocomplete__input sb-searchbox__input sb-destination__input\"]')"
   ]
  },
  {
   "cell_type": "code",
   "execution_count": null,
   "metadata": {},
   "outputs": [],
   "source": [
    "input_box.clear()\n",
    "input_box.send_keys(hotel)"
   ]
  },
  {
   "cell_type": "code",
   "execution_count": null,
   "metadata": {},
   "outputs": [],
   "source": [
    "date_box=driver.find_element_by_xpath('//div[@class=\"xp__input-group xp__date-time\"]').click()\n",
    "\n",
    "check_in_date=driver.find_element_by_xpath('//td[@data-date=\"2021-03-29\"]').click()\n",
    "check_out_date=driver.find_element_by_xpath('//td[@data-date=\"2021-03-30\"]').click()"
   ]
  },
  {
   "cell_type": "code",
   "execution_count": null,
   "metadata": {},
   "outputs": [],
   "source": [
    "search_button=driver.find_element_by_xpath('//div[@class=\"sb-searchbox-submit-col -submit-button \"]')\n",
    "search_button.click()"
   ]
  },
  {
   "cell_type": "code",
   "execution_count": null,
   "metadata": {},
   "outputs": [],
   "source": []
  },
  {
   "cell_type": "code",
   "execution_count": null,
   "metadata": {},
   "outputs": [],
   "source": [
    "html = etree.HTML(driver.page_source) "
   ]
  },
  {
   "cell_type": "code",
   "execution_count": null,
   "metadata": {},
   "outputs": [],
   "source": [
    "hotel_name = html.xpath('//a[@class=\"js-sr-hotel-link hotel_name_link url\"]/span[1]/text()')"
   ]
  },
  {
   "cell_type": "code",
   "execution_count": null,
   "metadata": {},
   "outputs": [],
   "source": [
    "hotel_name"
   ]
  },
  {
   "cell_type": "code",
   "execution_count": null,
   "metadata": {},
   "outputs": [],
   "source": [
    "hotel_name[0]"
   ]
  },
  {
   "cell_type": "code",
   "execution_count": null,
   "metadata": {},
   "outputs": [],
   "source": []
  },
  {
   "cell_type": "markdown",
   "metadata": {},
   "source": [
    "### Section 4: References"
   ]
  },
  {
   "cell_type": "markdown",
   "metadata": {},
   "source": [
    "Documentation for selenium: https://selenium-python.readthedocs.io/"
   ]
  },
  {
   "cell_type": "code",
   "execution_count": null,
   "metadata": {},
   "outputs": [],
   "source": []
  }
 ],
 "metadata": {
  "kernelspec": {
   "display_name": "Python 3",
   "language": "python",
   "name": "python3"
  },
  "language_info": {
   "codemirror_mode": {
    "name": "ipython",
    "version": 3
   },
   "file_extension": ".py",
   "mimetype": "text/x-python",
   "name": "python",
   "nbconvert_exporter": "python",
   "pygments_lexer": "ipython3",
   "version": "3.7.6"
  }
 },
 "nbformat": 4,
 "nbformat_minor": 4
}
